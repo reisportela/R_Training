{
 "cells": [
  {
   "cell_type": "markdown",
   "metadata": {},
   "source": [
    "# Top Python Libraries to Automate Exploratory Data Analysis in 2021"
   ]
  },
  {
   "cell_type": "code",
   "execution_count": null,
   "metadata": {},
   "outputs": [],
   "source": [
    "# SOURCE: https://www.analyticsvidhya.com/blog/2021/04/top-python-libraries-to-automate-exploratory-data-analysis-in-2021/"
   ]
  },
  {
   "cell_type": "code",
   "execution_count": null,
   "metadata": {
    "tags": []
   },
   "outputs": [],
   "source": [
    "#!conda install -y -c conda-forge/label/cf202003 julia\n",
    "#!conda install -y -c conda-forge/label/cf202003 dtale\n",
    "#!conda install -y -c conda-forge sweetviz\n",
    "#!conda install -y -c conda-forge/label/cf202003 pandas-profiling"
   ]
  },
  {
   "cell_type": "code",
   "execution_count": 1,
   "metadata": {
    "ExecuteTime": {
     "end_time": "2022-04-04T12:09:29.349229Z",
     "start_time": "2022-04-04T12:09:28.550148Z"
    }
   },
   "outputs": [],
   "source": [
    "import os,sys\n",
    "import pandas as pd"
   ]
  },
  {
   "cell_type": "code",
   "execution_count": 2,
   "metadata": {
    "ExecuteTime": {
     "end_time": "2022-04-04T12:09:32.070680Z",
     "start_time": "2022-04-04T12:09:31.665615Z"
    }
   },
   "outputs": [],
   "source": [
    "import dtale\n"
   ]
  },
  {
   "cell_type": "code",
   "execution_count": 3,
   "metadata": {
    "ExecuteTime": {
     "end_time": "2022-04-04T12:09:33.658042Z",
     "start_time": "2022-04-04T12:09:32.997016Z"
    }
   },
   "outputs": [],
   "source": [
    "import pandas_profiling\n",
    "import numpy as np\n"
   ]
  },
  {
   "cell_type": "code",
   "execution_count": 4,
   "metadata": {
    "ExecuteTime": {
     "end_time": "2022-04-04T12:09:36.201557Z",
     "start_time": "2022-04-04T12:09:35.645000Z"
    }
   },
   "outputs": [
    {
     "name": "stderr",
     "output_type": "stream",
     "text": [
      "<frozen importlib._bootstrap>:228: RuntimeWarning:\n",
      "\n",
      "scipy._lib.messagestream.MessageStream size changed, may indicate binary incompatibility. Expected 56 from C header, got 64 from PyObject\n",
      "\n"
     ]
    }
   ],
   "source": [
    "import sweetviz"
   ]
  },
  {
   "cell_type": "code",
   "execution_count": 5,
   "metadata": {
    "ExecuteTime": {
     "end_time": "2022-04-04T12:09:42.024472Z",
     "start_time": "2022-04-04T12:09:42.014107Z"
    }
   },
   "outputs": [
    {
     "data": {
      "text/plain": [
       "sys.version_info(major=3, minor=9, micro=7, releaselevel='final', serial=0)"
      ]
     },
     "execution_count": 5,
     "metadata": {},
     "output_type": "execute_result"
    }
   ],
   "source": [
    "sys.version_info"
   ]
  },
  {
   "cell_type": "code",
   "execution_count": 6,
   "metadata": {
    "ExecuteTime": {
     "end_time": "2022-04-04T12:09:42.917467Z",
     "start_time": "2022-04-04T12:09:42.912562Z"
    }
   },
   "outputs": [],
   "source": [
    "os.chdir(\"/Users/miguelportela/Documents/GitHub/R_Training/EDA\")"
   ]
  },
  {
   "cell_type": "code",
   "execution_count": 7,
   "metadata": {
    "ExecuteTime": {
     "end_time": "2022-04-04T12:09:45.265878Z",
     "start_time": "2022-04-04T12:09:45.260907Z"
    }
   },
   "outputs": [
    {
     "data": {
      "text/plain": [
       "'/Users/miguelportela/Documents/GitHub/R_Training/EDA'"
      ]
     },
     "execution_count": 7,
     "metadata": {},
     "output_type": "execute_result"
    }
   ],
   "source": [
    "os.getcwd()"
   ]
  },
  {
   "cell_type": "code",
   "execution_count": 8,
   "metadata": {
    "ExecuteTime": {
     "end_time": "2022-04-04T12:09:49.221705Z",
     "start_time": "2022-04-04T12:09:49.178044Z"
    }
   },
   "outputs": [],
   "source": [
    "df = pd.read_stata('nlswork.dta')\n",
    "#df = pd.read_excel('nlswork.xlsx')"
   ]
  },
  {
   "cell_type": "code",
   "execution_count": 9,
   "metadata": {
    "ExecuteTime": {
     "end_time": "2022-04-04T12:10:06.503465Z",
     "start_time": "2022-04-04T12:10:06.279565Z"
    }
   },
   "outputs": [],
   "source": [
    "d = dtale.show(df)"
   ]
  },
  {
   "cell_type": "code",
   "execution_count": 10,
   "metadata": {
    "ExecuteTime": {
     "end_time": "2022-04-04T12:10:11.106993Z",
     "start_time": "2022-04-04T12:10:10.912267Z"
    }
   },
   "outputs": [],
   "source": [
    "d.open_browser()"
   ]
  },
  {
   "cell_type": "code",
   "execution_count": null,
   "metadata": {},
   "outputs": [],
   "source": [
    "pandas_profiling.ProfileReport(df)"
   ]
  },
  {
   "cell_type": "code",
   "execution_count": 11,
   "metadata": {
    "ExecuteTime": {
     "end_time": "2022-04-04T12:10:41.202651Z",
     "start_time": "2022-04-04T12:10:32.315210Z"
    }
   },
   "outputs": [
    {
     "name": "stderr",
     "output_type": "stream",
     "text": [
      "[Step 3/3] Generating associations graph     |      | [  0%]   00:00 -> (? left)/Users/miguelportela/opt/anaconda3/envs/mypython310/lib/python3.9/site-packages/sweetviz/graph_associations.py:223: FutureWarning:\n",
      "\n",
      "The frame.append method is deprecated and will be removed from pandas in a future version. Use pandas.concat instead.\n",
      "\n",
      "/Users/miguelportela/opt/anaconda3/envs/mypython310/lib/python3.9/site-packages/sweetviz/graph_associations.py:223: FutureWarning:\n",
      "\n",
      "The frame.append method is deprecated and will be removed from pandas in a future version. Use pandas.concat instead.\n",
      "\n",
      "/Users/miguelportela/opt/anaconda3/envs/mypython310/lib/python3.9/site-packages/sweetviz/graph_associations.py:223: FutureWarning:\n",
      "\n",
      "The frame.append method is deprecated and will be removed from pandas in a future version. Use pandas.concat instead.\n",
      "\n",
      "/Users/miguelportela/opt/anaconda3/envs/mypython310/lib/python3.9/site-packages/sweetviz/graph_associations.py:223: FutureWarning:\n",
      "\n",
      "The frame.append method is deprecated and will be removed from pandas in a future version. Use pandas.concat instead.\n",
      "\n",
      "/Users/miguelportela/opt/anaconda3/envs/mypython310/lib/python3.9/site-packages/sweetviz/graph_associations.py:223: FutureWarning:\n",
      "\n",
      "The frame.append method is deprecated and will be removed from pandas in a future version. Use pandas.concat instead.\n",
      "\n",
      "/Users/miguelportela/opt/anaconda3/envs/mypython310/lib/python3.9/site-packages/sweetviz/graph_associations.py:223: FutureWarning:\n",
      "\n",
      "The frame.append method is deprecated and will be removed from pandas in a future version. Use pandas.concat instead.\n",
      "\n",
      "/Users/miguelportela/opt/anaconda3/envs/mypython310/lib/python3.9/site-packages/sweetviz/graph_associations.py:223: FutureWarning:\n",
      "\n",
      "The frame.append method is deprecated and will be removed from pandas in a future version. Use pandas.concat instead.\n",
      "\n",
      "/Users/miguelportela/opt/anaconda3/envs/mypython310/lib/python3.9/site-packages/sweetviz/graph_associations.py:223: FutureWarning:\n",
      "\n",
      "The frame.append method is deprecated and will be removed from pandas in a future version. Use pandas.concat instead.\n",
      "\n",
      "/Users/miguelportela/opt/anaconda3/envs/mypython310/lib/python3.9/site-packages/sweetviz/graph_associations.py:223: FutureWarning:\n",
      "\n",
      "The frame.append method is deprecated and will be removed from pandas in a future version. Use pandas.concat instead.\n",
      "\n",
      "/Users/miguelportela/opt/anaconda3/envs/mypython310/lib/python3.9/site-packages/sweetviz/graph_associations.py:223: FutureWarning:\n",
      "\n",
      "The frame.append method is deprecated and will be removed from pandas in a future version. Use pandas.concat instead.\n",
      "\n",
      "/Users/miguelportela/opt/anaconda3/envs/mypython310/lib/python3.9/site-packages/sweetviz/graph_associations.py:223: FutureWarning:\n",
      "\n",
      "The frame.append method is deprecated and will be removed from pandas in a future version. Use pandas.concat instead.\n",
      "\n",
      "/Users/miguelportela/opt/anaconda3/envs/mypython310/lib/python3.9/site-packages/sweetviz/graph_associations.py:223: FutureWarning:\n",
      "\n",
      "The frame.append method is deprecated and will be removed from pandas in a future version. Use pandas.concat instead.\n",
      "\n",
      "/Users/miguelportela/opt/anaconda3/envs/mypython310/lib/python3.9/site-packages/sweetviz/graph_associations.py:223: FutureWarning:\n",
      "\n",
      "The frame.append method is deprecated and will be removed from pandas in a future version. Use pandas.concat instead.\n",
      "\n",
      "/Users/miguelportela/opt/anaconda3/envs/mypython310/lib/python3.9/site-packages/sweetviz/graph_associations.py:223: FutureWarning:\n",
      "\n",
      "The frame.append method is deprecated and will be removed from pandas in a future version. Use pandas.concat instead.\n",
      "\n",
      "/Users/miguelportela/opt/anaconda3/envs/mypython310/lib/python3.9/site-packages/sweetviz/graph_associations.py:223: FutureWarning:\n",
      "\n",
      "The frame.append method is deprecated and will be removed from pandas in a future version. Use pandas.concat instead.\n",
      "\n",
      "/Users/miguelportela/opt/anaconda3/envs/mypython310/lib/python3.9/site-packages/sweetviz/graph_associations.py:223: FutureWarning:\n",
      "\n",
      "The frame.append method is deprecated and will be removed from pandas in a future version. Use pandas.concat instead.\n",
      "\n",
      "/Users/miguelportela/opt/anaconda3/envs/mypython310/lib/python3.9/site-packages/sweetviz/graph_associations.py:223: FutureWarning:\n",
      "\n",
      "The frame.append method is deprecated and will be removed from pandas in a future version. Use pandas.concat instead.\n",
      "\n",
      "/Users/miguelportela/opt/anaconda3/envs/mypython310/lib/python3.9/site-packages/sweetviz/graph_associations.py:223: FutureWarning:\n",
      "\n",
      "The frame.append method is deprecated and will be removed from pandas in a future version. Use pandas.concat instead.\n",
      "\n",
      "/Users/miguelportela/opt/anaconda3/envs/mypython310/lib/python3.9/site-packages/sweetviz/graph_associations.py:223: FutureWarning:\n",
      "\n",
      "The frame.append method is deprecated and will be removed from pandas in a future version. Use pandas.concat instead.\n",
      "\n",
      "/Users/miguelportela/opt/anaconda3/envs/mypython310/lib/python3.9/site-packages/sweetviz/graph_associations.py:223: FutureWarning:\n",
      "\n",
      "The frame.append method is deprecated and will be removed from pandas in a future version. Use pandas.concat instead.\n",
      "\n",
      "/Users/miguelportela/opt/anaconda3/envs/mypython310/lib/python3.9/site-packages/sweetviz/graph_associations.py:223: FutureWarning:\n",
      "\n",
      "The frame.append method is deprecated and will be removed from pandas in a future version. Use pandas.concat instead.\n",
      "\n",
      "Done! Use 'show' commands to display/save.   |██| [100%]   00:00 -> (00:00 left)\n"
     ]
    }
   ],
   "source": [
    "my_report  = sweetviz.analyze([df,'tenure'], target_feat='ln_wage')"
   ]
  },
  {
   "cell_type": "code",
   "execution_count": 12,
   "metadata": {
    "ExecuteTime": {
     "end_time": "2022-04-04T12:10:47.696182Z",
     "start_time": "2022-04-04T12:10:47.399802Z"
    }
   },
   "outputs": [
    {
     "name": "stdout",
     "output_type": "stream",
     "text": [
      "Report FinalReport.html was generated! NOTEBOOK/COLAB USERS: the web browser MAY not pop up, regardless, the report IS saved in your notebook/colab files.\n"
     ]
    }
   ],
   "source": [
    "my_report.show_html('FinalReport.html')"
   ]
  },
  {
   "cell_type": "code",
   "execution_count": null,
   "metadata": {},
   "outputs": [],
   "source": [
    "#!conda install -y -c anaconda autovizwidget"
   ]
  },
  {
   "cell_type": "code",
   "execution_count": null,
   "metadata": {},
   "outputs": [],
   "source": [
    "#!conda install -c conda-forge autoviz "
   ]
  },
  {
   "cell_type": "code",
   "execution_count": null,
   "metadata": {},
   "outputs": [],
   "source": [
    "#from autoviz.AutoViz_Class import AutoViz_Class\n",
    "#AV = AutoViz_Class()"
   ]
  },
  {
   "cell_type": "code",
   "execution_count": null,
   "metadata": {},
   "outputs": [],
   "source": [
    "#df2 = AV.AutoViz('nlswork.csv')"
   ]
  }
 ],
 "metadata": {
  "hide_input": false,
  "kernelspec": {
   "display_name": "Python 3.9.7 ('mypython310')",
   "language": "python",
   "name": "python397jvsc74a57bd0198abcb5d8bab07048753feeb5a1bcb3eb158f044c45ba76843b5692eb94db66"
  },
  "language_info": {
   "codemirror_mode": {
    "name": "ipython",
    "version": 3
   },
   "file_extension": ".py",
   "mimetype": "text/x-python",
   "name": "python",
   "nbconvert_exporter": "python",
   "pygments_lexer": "ipython3",
   "version": "3.9.7"
  },
  "latex_envs": {
   "LaTeX_envs_menu_present": true,
   "autoclose": false,
   "autocomplete": true,
   "bibliofile": "biblio.bib",
   "cite_by": "apalike",
   "current_citInitial": 1,
   "eqLabelWithNumbers": true,
   "eqNumInitial": 1,
   "hotkeys": {
    "equation": "Ctrl-E",
    "itemize": "Ctrl-I"
   },
   "labels_anchors": false,
   "latex_user_defs": false,
   "report_style_numbering": false,
   "user_envs_cfg": false
  },
  "toc": {
   "base_numbering": 1,
   "nav_menu": {},
   "number_sections": true,
   "sideBar": true,
   "skip_h1_title": false,
   "title_cell": "Table of Contents",
   "title_sidebar": "Contents",
   "toc_cell": false,
   "toc_position": {},
   "toc_section_display": true,
   "toc_window_display": false
  },
  "widgets": {
   "application/vnd.jupyter.widget-state+json": {
    "state": {},
    "version_major": 2,
    "version_minor": 0
   }
  }
 },
 "nbformat": 4,
 "nbformat_minor": 4
}
