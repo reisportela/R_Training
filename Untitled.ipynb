{
 "cells": [
  {
   "cell_type": "code",
   "execution_count": 1,
   "id": "259606e7-97c5-4ee0-993b-f925fe6901e6",
   "metadata": {},
   "outputs": [
    {
     "name": "stdout",
     "output_type": "stream",
     "text": [
      "(1978 automobile data)\n"
     ]
    }
   ],
   "source": [
    "sysuse auto"
   ]
  },
  {
   "cell_type": "code",
   "execution_count": 2,
   "id": "7ebb3b8b-e0ac-4990-b335-bff2460209be",
   "metadata": {},
   "outputs": [
    {
     "name": "stdout",
     "output_type": "stream",
     "text": [
      "\n",
      "file /Users/miguelportela/.stata_kernel_cache/graph0.png written in PNG format\n"
     ]
    }
   ],
   "source": [
    "kdensity price"
   ]
  }
 ],
 "metadata": {
  "kernelspec": {
   "display_name": "Stata",
   "language": "stata",
   "name": "stata"
  },
  "language_info": {
   "codemirror_mode": "stata",
   "file_extension": ".do",
   "mimetype": "text/x-stata",
   "name": "stata",
   "version": "15.1"
  }
 },
 "nbformat": 4,
 "nbformat_minor": 5
}
